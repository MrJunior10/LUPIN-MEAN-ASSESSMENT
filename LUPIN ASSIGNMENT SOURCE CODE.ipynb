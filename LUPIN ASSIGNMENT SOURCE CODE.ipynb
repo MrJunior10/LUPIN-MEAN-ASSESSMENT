{
 "cells": [
  {
   "cell_type": "code",
   "execution_count": 1,
   "id": "ff1020b6",
   "metadata": {},
   "outputs": [],
   "source": [
    "import os\n",
    "\n",
    "os.chdir(\"C:\\\\Users\\\\souvick\\\\Downloads\")"
   ]
  },
  {
   "cell_type": "code",
   "execution_count": 6,
   "id": "3c9e35eb",
   "metadata": {
    "scrolled": true
   },
   "outputs": [
    {
     "name": "stdout",
     "output_type": "stream",
     "text": [
      "Score: 4534.114152442327\n"
     ]
    }
   ],
   "source": [
    "import pandas as pd\n",
    "from sklearn.model_selection import train_test_split\n",
    "from sklearn.linear_model import LinearRegression\n",
    "from sklearn.metrics import mean_absolute_error\n",
    "import numpy as np\n",
    "\n",
    "train_data = pd.read_csv('train.csv')\n",
    "\n",
    "features = train_data.drop(['candidate_id', 'triglyceride_lvl'], axis=1)\n",
    "target = train_data['triglyceride_lvl']\n",
    "\n",
    "features = pd.get_dummies(features)\n",
    "\n",
    "features = features.fillna(features.mean())\n",
    "\n",
    "features = features.replace([np.inf], np.finfo('float64').max)\n",
    "\n",
    "features = features.replace([-np.inf], np.finfo('float64').min)\n",
    "\n",
    "X_train, X_val, y_train, y_val = train_test_split(features, target, test_size=0.2, random_state=42)\n",
    "\n",
    "model = LinearRegression()\n",
    "model.fit(X_train, y_train)\n",
    "\n",
    "predictions = model.predict(X_val)\n",
    "\n",
    "mae = mean_absolute_error(y_val, predictions)\n",
    "\n",
    "score = max(0, 100 * mae)\n",
    "\n",
    "print(f'Score: {score}')\n",
    "\n",
    "test_data = pd.read_csv('test.csv')\n",
    "\n",
    "test_features = test_data.drop(['candidate_id'], axis=1)\n",
    "\n",
    "test_features = pd.get_dummies(test_features)\n",
    "\n",
    "test_features = test_features.fillna(test_features.mean())\n",
    "\n",
    "test_features = test_features.replace([np.inf], np.finfo('float64').max)\n",
    "\n",
    "test_features = test_features.replace([-np.inf], np.finfo('float64').min)\n",
    "\n",
    "test_predictions = model.predict(test_features)\n",
    "\n",
    "submission = pd.DataFrame({\n",
    "    'candidate_id': test_data['candidate_id'],\n",
    "    'triglyceride_lvl': test_predictions\n",
    "})\n",
    "\n",
    "submission.to_csv('submission.csv', index=False)\n"
   ]
  },
  {
   "cell_type": "code",
   "execution_count": null,
   "id": "d68fce03",
   "metadata": {},
   "outputs": [],
   "source": []
  }
 ],
 "metadata": {
  "kernelspec": {
   "display_name": "Python 3 (ipykernel)",
   "language": "python",
   "name": "python3"
  },
  "language_info": {
   "codemirror_mode": {
    "name": "ipython",
    "version": 3
   },
   "file_extension": ".py",
   "mimetype": "text/x-python",
   "name": "python",
   "nbconvert_exporter": "python",
   "pygments_lexer": "ipython3",
   "version": "3.9.7"
  }
 },
 "nbformat": 4,
 "nbformat_minor": 5
}
